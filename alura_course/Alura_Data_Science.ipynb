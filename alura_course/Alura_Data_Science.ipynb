{
  "nbformat": 4,
  "nbformat_minor": 0,
  "metadata": {
    "colab": {
      "name": "Data Science.ipynb",
      "provenance": [],
      "authorship_tag": "ABX9TyP1pGj+tZQhWnrWhxy7Wjea",
      "include_colab_link": true
    },
    "kernelspec": {
      "name": "python3",
      "display_name": "Python 3"
    },
    "language_info": {
      "name": "python"
    }
  },
  "cells": [
    {
      "cell_type": "markdown",
      "metadata": {
        "id": "view-in-github",
        "colab_type": "text"
      },
      "source": [
        "<a href=\"https://colab.research.google.com/github/diego-salves/python_for_data_science_course/blob/main/Alura_Data_Science.ipynb\" target=\"_parent\"><img src=\"https://colab.research.google.com/assets/colab-badge.svg\" alt=\"Open In Colab\"/></a>"
      ]
    },
    {
      "cell_type": "code",
      "metadata": {
        "id": "WsocL1aylvEv"
      },
      "source": [
        "nome = \"Diego\""
      ],
      "execution_count": 1,
      "outputs": []
    }
  ]
}